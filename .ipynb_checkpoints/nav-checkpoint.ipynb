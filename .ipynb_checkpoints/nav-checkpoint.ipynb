{
 "cells": [
  {
   "cell_type": "code",
   "execution_count": 2,
   "id": "7a80940c",
   "metadata": {},
   "outputs": [],
   "source": [
    "#dependencies\n",
    "import pandas as pd\n",
    "import numpy as np\n",
    "import matplotlib.pyplot as plt"
   ]
  },
  {
   "cell_type": "code",
   "execution_count": 3,
   "id": "51df72c9",
   "metadata": {},
   "outputs": [
    {
     "data": {
      "text/html": [
       "<div>\n",
       "<style scoped>\n",
       "    .dataframe tbody tr th:only-of-type {\n",
       "        vertical-align: middle;\n",
       "    }\n",
       "\n",
       "    .dataframe tbody tr th {\n",
       "        vertical-align: top;\n",
       "    }\n",
       "\n",
       "    .dataframe thead th {\n",
       "        text-align: right;\n",
       "    }\n",
       "</style>\n",
       "<table border=\"1\" class=\"dataframe\">\n",
       "  <thead>\n",
       "    <tr style=\"text-align: right;\">\n",
       "      <th></th>\n",
       "      <th>GAME_ID</th>\n",
       "      <th>MATCHUP</th>\n",
       "      <th>LOCATION</th>\n",
       "      <th>W</th>\n",
       "      <th>FINAL_MARGIN</th>\n",
       "      <th>SHOT_NUMBER</th>\n",
       "      <th>PERIOD</th>\n",
       "      <th>GAME_CLOCK</th>\n",
       "      <th>SHOT_CLOCK</th>\n",
       "      <th>DRIBBLES</th>\n",
       "      <th>...</th>\n",
       "      <th>SHOT_DIST</th>\n",
       "      <th>PTS_TYPE</th>\n",
       "      <th>SHOT_RESULT</th>\n",
       "      <th>CLOSEST_DEFENDER</th>\n",
       "      <th>CLOSEST_DEFENDER_PLAYER_ID</th>\n",
       "      <th>CLOSE_DEF_DIST</th>\n",
       "      <th>FGM</th>\n",
       "      <th>PTS</th>\n",
       "      <th>player_name</th>\n",
       "      <th>player_id</th>\n",
       "    </tr>\n",
       "  </thead>\n",
       "  <tbody>\n",
       "    <tr>\n",
       "      <th>0</th>\n",
       "      <td>21400899</td>\n",
       "      <td>MAR 04, 2015 - CHA @ BKN</td>\n",
       "      <td>A</td>\n",
       "      <td>W</td>\n",
       "      <td>24</td>\n",
       "      <td>1</td>\n",
       "      <td>1</td>\n",
       "      <td>1:09</td>\n",
       "      <td>10.8</td>\n",
       "      <td>2</td>\n",
       "      <td>...</td>\n",
       "      <td>7.7</td>\n",
       "      <td>2</td>\n",
       "      <td>made</td>\n",
       "      <td>Anderson, Alan</td>\n",
       "      <td>101187</td>\n",
       "      <td>1.3</td>\n",
       "      <td>1</td>\n",
       "      <td>2</td>\n",
       "      <td>brian roberts</td>\n",
       "      <td>203148</td>\n",
       "    </tr>\n",
       "    <tr>\n",
       "      <th>1</th>\n",
       "      <td>21400899</td>\n",
       "      <td>MAR 04, 2015 - CHA @ BKN</td>\n",
       "      <td>A</td>\n",
       "      <td>W</td>\n",
       "      <td>24</td>\n",
       "      <td>2</td>\n",
       "      <td>1</td>\n",
       "      <td>0:14</td>\n",
       "      <td>3.4</td>\n",
       "      <td>0</td>\n",
       "      <td>...</td>\n",
       "      <td>28.2</td>\n",
       "      <td>3</td>\n",
       "      <td>missed</td>\n",
       "      <td>Bogdanovic, Bojan</td>\n",
       "      <td>202711</td>\n",
       "      <td>6.1</td>\n",
       "      <td>0</td>\n",
       "      <td>0</td>\n",
       "      <td>brian roberts</td>\n",
       "      <td>203148</td>\n",
       "    </tr>\n",
       "  </tbody>\n",
       "</table>\n",
       "<p>2 rows × 21 columns</p>\n",
       "</div>"
      ],
      "text/plain": [
       "    GAME_ID                   MATCHUP LOCATION  W  FINAL_MARGIN  SHOT_NUMBER  \\\n",
       "0  21400899  MAR 04, 2015 - CHA @ BKN        A  W            24            1   \n",
       "1  21400899  MAR 04, 2015 - CHA @ BKN        A  W            24            2   \n",
       "\n",
       "   PERIOD GAME_CLOCK  SHOT_CLOCK  DRIBBLES  ...  SHOT_DIST  PTS_TYPE  \\\n",
       "0       1       1:09        10.8         2  ...        7.7         2   \n",
       "1       1       0:14         3.4         0  ...       28.2         3   \n",
       "\n",
       "   SHOT_RESULT   CLOSEST_DEFENDER CLOSEST_DEFENDER_PLAYER_ID  CLOSE_DEF_DIST  \\\n",
       "0         made     Anderson, Alan                     101187             1.3   \n",
       "1       missed  Bogdanovic, Bojan                     202711             6.1   \n",
       "\n",
       "   FGM  PTS    player_name player_id  \n",
       "0    1    2  brian roberts    203148  \n",
       "1    0    0  brian roberts    203148  \n",
       "\n",
       "[2 rows x 21 columns]"
      ]
     },
     "execution_count": 3,
     "metadata": {},
     "output_type": "execute_result"
    }
   ],
   "source": [
    "#importing data\n",
    "path = \"data/shot_logs.csv\"\n",
    "file = pd.read_csv(path)\n",
    "file.head(2)"
   ]
  },
  {
   "cell_type": "code",
   "execution_count": 4,
   "id": "023cdeb8",
   "metadata": {},
   "outputs": [
    {
     "name": "stdout",
     "output_type": "stream",
     "text": [
      "<class 'pandas.core.frame.DataFrame'>\n",
      "RangeIndex: 128069 entries, 0 to 128068\n",
      "Data columns (total 21 columns):\n",
      " #   Column                      Non-Null Count   Dtype  \n",
      "---  ------                      --------------   -----  \n",
      " 0   GAME_ID                     128069 non-null  int64  \n",
      " 1   MATCHUP                     128069 non-null  object \n",
      " 2   LOCATION                    128069 non-null  object \n",
      " 3   W                           128069 non-null  object \n",
      " 4   FINAL_MARGIN                128069 non-null  int64  \n",
      " 5   SHOT_NUMBER                 128069 non-null  int64  \n",
      " 6   PERIOD                      128069 non-null  int64  \n",
      " 7   GAME_CLOCK                  128069 non-null  object \n",
      " 8   SHOT_CLOCK                  122502 non-null  float64\n",
      " 9   DRIBBLES                    128069 non-null  int64  \n",
      " 10  TOUCH_TIME                  128069 non-null  float64\n",
      " 11  SHOT_DIST                   128069 non-null  float64\n",
      " 12  PTS_TYPE                    128069 non-null  int64  \n",
      " 13  SHOT_RESULT                 128069 non-null  object \n",
      " 14  CLOSEST_DEFENDER            128069 non-null  object \n",
      " 15  CLOSEST_DEFENDER_PLAYER_ID  128069 non-null  int64  \n",
      " 16  CLOSE_DEF_DIST              128069 non-null  float64\n",
      " 17  FGM                         128069 non-null  int64  \n",
      " 18  PTS                         128069 non-null  int64  \n",
      " 19  player_name                 128069 non-null  object \n",
      " 20  player_id                   128069 non-null  int64  \n",
      "dtypes: float64(4), int64(10), object(7)\n",
      "memory usage: 20.5+ MB\n"
     ]
    }
   ],
   "source": [
    "#getting info on dataset\n",
    "file.info()"
   ]
  },
  {
   "cell_type": "code",
   "execution_count": 5,
   "id": "626c768e",
   "metadata": {},
   "outputs": [
    {
     "data": {
      "text/html": [
       "<div>\n",
       "<style scoped>\n",
       "    .dataframe tbody tr th:only-of-type {\n",
       "        vertical-align: middle;\n",
       "    }\n",
       "\n",
       "    .dataframe tbody tr th {\n",
       "        vertical-align: top;\n",
       "    }\n",
       "\n",
       "    .dataframe thead th {\n",
       "        text-align: right;\n",
       "    }\n",
       "</style>\n",
       "<table border=\"1\" class=\"dataframe\">\n",
       "  <thead>\n",
       "    <tr style=\"text-align: right;\">\n",
       "      <th></th>\n",
       "      <th>result</th>\n",
       "      <th>distance</th>\n",
       "      <th>shotclock</th>\n",
       "    </tr>\n",
       "  </thead>\n",
       "  <tbody>\n",
       "    <tr>\n",
       "      <th>0</th>\n",
       "      <td>made</td>\n",
       "      <td>7.7</td>\n",
       "      <td>10.8</td>\n",
       "    </tr>\n",
       "    <tr>\n",
       "      <th>1</th>\n",
       "      <td>missed</td>\n",
       "      <td>28.2</td>\n",
       "      <td>3.4</td>\n",
       "    </tr>\n",
       "    <tr>\n",
       "      <th>3</th>\n",
       "      <td>missed</td>\n",
       "      <td>17.2</td>\n",
       "      <td>10.3</td>\n",
       "    </tr>\n",
       "    <tr>\n",
       "      <th>4</th>\n",
       "      <td>missed</td>\n",
       "      <td>3.7</td>\n",
       "      <td>10.9</td>\n",
       "    </tr>\n",
       "    <tr>\n",
       "      <th>5</th>\n",
       "      <td>missed</td>\n",
       "      <td>18.4</td>\n",
       "      <td>9.1</td>\n",
       "    </tr>\n",
       "    <tr>\n",
       "      <th>...</th>\n",
       "      <td>...</td>\n",
       "      <td>...</td>\n",
       "      <td>...</td>\n",
       "    </tr>\n",
       "    <tr>\n",
       "      <th>128063</th>\n",
       "      <td>made</td>\n",
       "      <td>8.9</td>\n",
       "      <td>15.3</td>\n",
       "    </tr>\n",
       "    <tr>\n",
       "      <th>128064</th>\n",
       "      <td>missed</td>\n",
       "      <td>8.7</td>\n",
       "      <td>18.3</td>\n",
       "    </tr>\n",
       "    <tr>\n",
       "      <th>128065</th>\n",
       "      <td>made</td>\n",
       "      <td>0.6</td>\n",
       "      <td>19.8</td>\n",
       "    </tr>\n",
       "    <tr>\n",
       "      <th>128066</th>\n",
       "      <td>made</td>\n",
       "      <td>16.9</td>\n",
       "      <td>23.0</td>\n",
       "    </tr>\n",
       "    <tr>\n",
       "      <th>128067</th>\n",
       "      <td>missed</td>\n",
       "      <td>18.3</td>\n",
       "      <td>9.1</td>\n",
       "    </tr>\n",
       "  </tbody>\n",
       "</table>\n",
       "<p>122502 rows × 3 columns</p>\n",
       "</div>"
      ],
      "text/plain": [
       "        result  distance  shotclock\n",
       "0         made       7.7       10.8\n",
       "1       missed      28.2        3.4\n",
       "3       missed      17.2       10.3\n",
       "4       missed       3.7       10.9\n",
       "5       missed      18.4        9.1\n",
       "...        ...       ...        ...\n",
       "128063    made       8.9       15.3\n",
       "128064  missed       8.7       18.3\n",
       "128065    made       0.6       19.8\n",
       "128066    made      16.9       23.0\n",
       "128067  missed      18.3        9.1\n",
       "\n",
       "[122502 rows x 3 columns]"
      ]
     },
     "execution_count": 5,
     "metadata": {},
     "output_type": "execute_result"
    }
   ],
   "source": [
    "#selecting the columns we want and putting them into a new data frame\n",
    "data = file[['SHOT_RESULT','SHOT_DIST','SHOT_CLOCK']]\n",
    "\n",
    "#data cleaning\n",
    "data = data.rename(columns={\n",
    "    'SHOT_RESULT':'result',\n",
    "    'SHOT_DIST':'distance',\n",
    "    'SHOT_CLOCK':'shotclock'\n",
    "})\n",
    "data_cleaned = data.dropna()\n",
    "data_cleaned"
   ]
  },
  {
   "cell_type": "code",
   "execution_count": 6,
   "id": "2c10a7e0",
   "metadata": {},
   "outputs": [
    {
     "name": "stdout",
     "output_type": "stream",
     "text": [
      "the maximum shot distance was 43.5\n",
      "the minimum shot distance was 0.0\n"
     ]
    }
   ],
   "source": [
    "#DISTANCE min and max\n",
    "maxdist=data_cleaned.max()['distance']\n",
    "mindist=data_cleaned.min()['distance']\n",
    "\n",
    "print(f\"the maximum shot distance was {maxdist}\")\n",
    "print(f\"the minimum shot distance was {mindist}\")"
   ]
  },
  {
   "cell_type": "code",
   "execution_count": 7,
   "id": "0ec0993f",
   "metadata": {},
   "outputs": [
    {
     "name": "stdout",
     "output_type": "stream",
     "text": [
      "the maximum shot clock time was 24.0\n",
      "the minimum shot clock time was 0.0\n"
     ]
    }
   ],
   "source": [
    "#SHOTCLOCK min and max\n",
    "clockmax=data_cleaned.max()['shotclock']\n",
    "clockmin=data_cleaned.min()['shotclock']\n",
    "\n",
    "print(f\"the maximum shot clock time was {clockmax}\")\n",
    "print(f\"the minimum shot clock time was {clockmin}\")"
   ]
  },
  {
   "cell_type": "code",
   "execution_count": 15,
   "id": "fe5d67e4",
   "metadata": {},
   "outputs": [],
   "source": [
    "#DISTANCE BINS\n",
    "dist_bins = [0, 4.9, 9.9, 14.9, 19.9, 24.9, 29.9, 34.9]\n",
    "dist_groupnames = [\"<5\", \"5-9.9\", \"10-14.9\", \"15-19.9\", \"20-24.9\", \"25-29.9\", \">30\"]\n",
    "\n",
    "#SHOTCLOCK BINS\n",
    "clock_bins = [0, 3.9, 7.9, 11.9, 15.9, 19.9, 25]\n",
    "clock_groupnames = [\"<4\", \"4-7.9\", \"8-11.9\", \"12-15.9\", \"16-19.9\", \">20\"]"
   ]
  },
  {
   "cell_type": "code",
   "execution_count": 16,
   "id": "d30c81dd",
   "metadata": {},
   "outputs": [
    {
     "name": "stderr",
     "output_type": "stream",
     "text": [
      "C:\\Users\\navee\\AppData\\Local\\Temp\\ipykernel_16536\\204719670.py:2: SettingWithCopyWarning: \n",
      "A value is trying to be set on a copy of a slice from a DataFrame.\n",
      "Try using .loc[row_indexer,col_indexer] = value instead\n",
      "\n",
      "See the caveats in the documentation: https://pandas.pydata.org/pandas-docs/stable/user_guide/indexing.html#returning-a-view-versus-a-copy\n",
      "  data_cleaned['dist_bins'] = pd.cut(data_cleaned['distance'], dist_bins, labels = dist_groupnames, include_lowest = True)\n",
      "C:\\Users\\navee\\AppData\\Local\\Temp\\ipykernel_16536\\204719670.py:3: SettingWithCopyWarning: \n",
      "A value is trying to be set on a copy of a slice from a DataFrame.\n",
      "Try using .loc[row_indexer,col_indexer] = value instead\n",
      "\n",
      "See the caveats in the documentation: https://pandas.pydata.org/pandas-docs/stable/user_guide/indexing.html#returning-a-view-versus-a-copy\n",
      "  data_cleaned['clock_bins'] = pd.cut(data_cleaned['shotclock'], clock_bins, labels = clock_groupnames, include_lowest = True)\n"
     ]
    },
    {
     "data": {
      "text/html": [
       "<div>\n",
       "<style scoped>\n",
       "    .dataframe tbody tr th:only-of-type {\n",
       "        vertical-align: middle;\n",
       "    }\n",
       "\n",
       "    .dataframe tbody tr th {\n",
       "        vertical-align: top;\n",
       "    }\n",
       "\n",
       "    .dataframe thead th {\n",
       "        text-align: right;\n",
       "    }\n",
       "</style>\n",
       "<table border=\"1\" class=\"dataframe\">\n",
       "  <thead>\n",
       "    <tr style=\"text-align: right;\">\n",
       "      <th></th>\n",
       "      <th>result</th>\n",
       "      <th>distance</th>\n",
       "      <th>shotclock</th>\n",
       "      <th>dist_bins</th>\n",
       "      <th>clock_bins</th>\n",
       "    </tr>\n",
       "  </thead>\n",
       "  <tbody>\n",
       "    <tr>\n",
       "      <th>0</th>\n",
       "      <td>made</td>\n",
       "      <td>7.7</td>\n",
       "      <td>10.8</td>\n",
       "      <td>5-9.9</td>\n",
       "      <td>8-11.9</td>\n",
       "    </tr>\n",
       "    <tr>\n",
       "      <th>1</th>\n",
       "      <td>missed</td>\n",
       "      <td>28.2</td>\n",
       "      <td>3.4</td>\n",
       "      <td>25-29.9</td>\n",
       "      <td>&lt;4</td>\n",
       "    </tr>\n",
       "    <tr>\n",
       "      <th>3</th>\n",
       "      <td>missed</td>\n",
       "      <td>17.2</td>\n",
       "      <td>10.3</td>\n",
       "      <td>15-19.9</td>\n",
       "      <td>8-11.9</td>\n",
       "    </tr>\n",
       "    <tr>\n",
       "      <th>4</th>\n",
       "      <td>missed</td>\n",
       "      <td>3.7</td>\n",
       "      <td>10.9</td>\n",
       "      <td>&lt;5</td>\n",
       "      <td>8-11.9</td>\n",
       "    </tr>\n",
       "    <tr>\n",
       "      <th>5</th>\n",
       "      <td>missed</td>\n",
       "      <td>18.4</td>\n",
       "      <td>9.1</td>\n",
       "      <td>15-19.9</td>\n",
       "      <td>8-11.9</td>\n",
       "    </tr>\n",
       "    <tr>\n",
       "      <th>...</th>\n",
       "      <td>...</td>\n",
       "      <td>...</td>\n",
       "      <td>...</td>\n",
       "      <td>...</td>\n",
       "      <td>...</td>\n",
       "    </tr>\n",
       "    <tr>\n",
       "      <th>128063</th>\n",
       "      <td>made</td>\n",
       "      <td>8.9</td>\n",
       "      <td>15.3</td>\n",
       "      <td>5-9.9</td>\n",
       "      <td>12-15.9</td>\n",
       "    </tr>\n",
       "    <tr>\n",
       "      <th>128064</th>\n",
       "      <td>missed</td>\n",
       "      <td>8.7</td>\n",
       "      <td>18.3</td>\n",
       "      <td>5-9.9</td>\n",
       "      <td>16-19.9</td>\n",
       "    </tr>\n",
       "    <tr>\n",
       "      <th>128065</th>\n",
       "      <td>made</td>\n",
       "      <td>0.6</td>\n",
       "      <td>19.8</td>\n",
       "      <td>&lt;5</td>\n",
       "      <td>16-19.9</td>\n",
       "    </tr>\n",
       "    <tr>\n",
       "      <th>128066</th>\n",
       "      <td>made</td>\n",
       "      <td>16.9</td>\n",
       "      <td>23.0</td>\n",
       "      <td>15-19.9</td>\n",
       "      <td>&gt;20</td>\n",
       "    </tr>\n",
       "    <tr>\n",
       "      <th>128067</th>\n",
       "      <td>missed</td>\n",
       "      <td>18.3</td>\n",
       "      <td>9.1</td>\n",
       "      <td>15-19.9</td>\n",
       "      <td>8-11.9</td>\n",
       "    </tr>\n",
       "  </tbody>\n",
       "</table>\n",
       "<p>122502 rows × 5 columns</p>\n",
       "</div>"
      ],
      "text/plain": [
       "        result  distance  shotclock dist_bins clock_bins\n",
       "0         made       7.7       10.8     5-9.9     8-11.9\n",
       "1       missed      28.2        3.4   25-29.9         <4\n",
       "3       missed      17.2       10.3   15-19.9     8-11.9\n",
       "4       missed       3.7       10.9        <5     8-11.9\n",
       "5       missed      18.4        9.1   15-19.9     8-11.9\n",
       "...        ...       ...        ...       ...        ...\n",
       "128063    made       8.9       15.3     5-9.9    12-15.9\n",
       "128064  missed       8.7       18.3     5-9.9    16-19.9\n",
       "128065    made       0.6       19.8        <5    16-19.9\n",
       "128066    made      16.9       23.0   15-19.9        >20\n",
       "128067  missed      18.3        9.1   15-19.9     8-11.9\n",
       "\n",
       "[122502 rows x 5 columns]"
      ]
     },
     "execution_count": 16,
     "metadata": {},
     "output_type": "execute_result"
    }
   ],
   "source": [
    "#cutting the data into bins and adding columns for bins\n",
    "data_cleaned['dist_bins'] = pd.cut(data_cleaned['distance'], dist_bins, labels = dist_groupnames, include_lowest = True)\n",
    "data_cleaned['clock_bins'] = pd.cut(data_cleaned['shotclock'], clock_bins, labels = clock_groupnames, include_lowest = True)\n",
    "data_cleaned"
   ]
  },
  {
   "cell_type": "code",
   "execution_count": 17,
   "id": "9fd5b26f",
   "metadata": {},
   "outputs": [
    {
     "data": {
      "text/plain": [
       "Text(0, 0.5, '# made shots')"
      ]
     },
     "execution_count": 17,
     "metadata": {},
     "output_type": "execute_result"
    },
    {
     "data": {
      "image/png": "[encoded data removed]",
      "text/plain": [
       "<Figure size 640x480 with 1 Axes>"
      ]
     },
     "metadata": {},
     "output_type": "display_data"
    }
   ],
   "source": [
    "#most shots are made at what shot clock value?\n",
    "made_only = data_cleaned.loc[data_cleaned['result']=='made']\n",
    "df1 = made_only['clock_bins'].value_counts()\n",
    "\n",
    "df1.loc[clock_groupnames].plot(kind = \"bar\", legend = False)\n",
    "plt.xticks(rotation = \"horizontal\")\n",
    "plt.title(\"When are most shots made according to the shot clock?\")\n",
    "plt.xlabel(\"Shot clock time (s)\")\n",
    "plt.ylabel(\"# made shots\")"
   ]
  },
  {
   "cell_type": "code",
   "execution_count": 29,
   "id": "ec8c6421",
   "metadata": {},
   "outputs": [
    {
     "data": {
      "text/plain": [
       "<matplotlib.lines.Line2D at 0x27d4a568e80>"
      ]
     },
     "execution_count": 29,
     "metadata": {},
     "output_type": "execute_result"
    },
    {
     "data": {
      "image/png": "[encoded data removed]",
      "text/plain": [
       "<Figure size 640x480 with 1 Axes>"
      ]
     },
     "metadata": {},
     "output_type": "display_data"
    }
   ],
   "source": [
    "df2 = made_only['dist_bins'].value_counts()\n",
    "\n",
    "df2.loc[dist_groupnames].plot(kind = \"bar\", legend = False)\n",
    "plt.xticks(rotation = \"vertical\")\n",
    "plt.title(\"Shots made according to distance\")\n",
    "plt.xlabel(\"Distance with three point line in red\")\n",
    "plt.ylabel(\"# made shots\")\n",
    "plt.axvline(x=4, color = \"red\")"
   ]
  },
  {
   "cell_type": "code",
   "execution_count": null,
   "id": "bc77ba15",
   "metadata": {},
   "outputs": [],
   "source": []
  },
  {
   "cell_type": "code",
   "execution_count": 35,
   "id": "707d41dd",
   "metadata": {},
   "outputs": [
    {
     "data": {
      "text/plain": [
       "([<matplotlib.patches.Wedge at 0x122f00bbd30>,\n",
       "  <matplotlib.patches.Wedge at 0x122f00bbc40>],\n",
       " [Text(-0.8160698648472713, -0.7375838770527434, 'Made'),\n",
       "  Text(0.8160699339048544, 0.7375838006467651, 'Missed')],\n",
       " [Text(-0.44512901718942066, -0.4023184783924055, '45.6%'),\n",
       "  Text(0.44512905485719323, 0.40231843671641726, '54.4%')])"
      ]
     },
     "execution_count": 35,
     "metadata": {},
     "output_type": "execute_result"
    },
    {
     "data": {
      "image/png": "[encoded data removed]",
      "text/plain": [
       "<Figure size 640x480 with 1 Axes>"
      ]
     },
     "metadata": {},
     "output_type": "display_data"
    }
   ],
   "source": [
    "#Pie chart of all shot results\n",
    "made_counter = 0\n",
    "missed_counter = 0\n",
    "\n",
    "for result in data_cleaned['result']:\n",
    "    if result == \"made\":\n",
    "        made_counter += 1\n",
    "    else:\n",
    "        missed_counter += 1\n",
    "        \n",
    "pielist = [made_counter, missed_counter]\n",
    "labels = [\"Made\", \"Missed\"]\n",
    "\n",
    "plt.pie(pielist, labels = labels, autopct=\"%1.1f%%\", shadow=True, startangle=140)\n",
    "#subplots get them on the same plot and add titles"
   ]
  },
  {
   "cell_type": "code",
   "execution_count": 43,
   "id": "f2b40f74",
   "metadata": {},
   "outputs": [
    {
     "data": {
      "text/plain": [
       "([<matplotlib.patches.Wedge at 0x122f78ec8e0>,\n",
       "  <matplotlib.patches.Wedge at 0x122f78ec7f0>],\n",
       " [Text(-0.3499939198826483, -1.0428347213461866, 'Made'),\n",
       "  Text(0.3499939198826484, 1.0428347213461866, 'Missed')],\n",
       " [Text(-0.1909057744814445, -0.5688189389161017, '61.9%'),\n",
       "  Text(0.19090577448144455, 0.5688189389161017, '38.1%')])"
      ]
     },
     "execution_count": 43,
     "metadata": {},
     "output_type": "execute_result"
    },
    {
     "data": {
      "image/png": "[encoded data removed]",
      "text/plain": [
       "<Figure size 640x480 with 1 Axes>"
      ]
     },
     "metadata": {},
     "output_type": "display_data"
    }
   ],
   "source": [
    "close_shots = data_cleaned.loc[data_cleaned['distance']<5]\n",
    "\n",
    "made_counter = 0\n",
    "missed_counter = 0\n",
    "\n",
    "for result in close_shots['result']:\n",
    "    if result == \"made\":\n",
    "        made_counter += 1\n",
    "    else:\n",
    "        missed_counter += 1\n",
    "        \n",
    "pielist = [made_counter, missed_counter]\n",
    "labels = [\"Made\", \"Missed\"]\n",
    "\n",
    "plt.pie(pielist, labels = labels, autopct=\"%1.1f%%\", shadow=True, startangle=140)"
   ]
  },
  {
   "cell_type": "code",
   "execution_count": 45,
   "id": "fbe67c67",
   "metadata": {},
   "outputs": [
    {
     "data": {
      "text/plain": [
       "([<matplotlib.patches.Wedge at 0x122f797eb90>,\n",
       "  <matplotlib.patches.Wedge at 0x122f797eaa0>],\n",
       " [Text(-1.0996581003842978, 0.027423753557779273, 'Made'),\n",
       "  Text(1.099658099100498, -0.02742380503649026, 'Missed')],\n",
       " [Text(-0.599813509300526, 0.014958411031515965, '21.4%'),\n",
       "  Text(0.5998135086002716, -0.014958439110812866, '78.6%')])"
      ]
     },
     "execution_count": 45,
     "metadata": {},
     "output_type": "execute_result"
    },
    {
     "data": {
      "image/png": "[encoded data removed]",
      "text/plain": [
       "<Figure size 640x480 with 1 Axes>"
      ]
     },
     "metadata": {},
     "output_type": "display_data"
    }
   ],
   "source": [
    "far_shots = data_cleaned.loc[data_cleaned['distance']>35]\n",
    "\n",
    "made_counter = 0\n",
    "missed_counter = 0\n",
    "\n",
    "for result in far_shots['result']:\n",
    "    if result == \"made\":\n",
    "        made_counter += 1\n",
    "    else:\n",
    "        missed_counter += 1\n",
    "        \n",
    "pielist = [made_counter, missed_counter]\n",
    "labels = [\"Made\", \"Missed\"]\n",
    "\n",
    "plt.pie(pielist, labels = labels, autopct=\"%1.1f%%\", shadow=True, startangle=140)"
   ]
  },
  {
   "cell_type": "code",
   "execution_count": null,
   "id": "7381c267",
   "metadata": {},
   "outputs": [],
   "source": []
  }
 ],
 "metadata": {
  "kernelspec": {
   "display_name": "Python 3 (ipykernel)",
   "language": "python",
   "name": "python3"
  },
  "language_info": {
   "codemirror_mode": {
    "name": "ipython",
    "version": 3
   },
   "file_extension": ".py",
   "mimetype": "text/x-python",
   "name": "python",
   "nbconvert_exporter": "python",
   "pygments_lexer": "ipython3",
   "version": "3.10.9"
  }
 },
 "nbformat": 4,
 "nbformat_minor": 5
}
